{
  "cells": [
    {
      "cell_type": "markdown",
      "metadata": {
        "id": "view-in-github",
        "colab_type": "text"
      },
      "source": [
        "<a href=\"https://colab.research.google.com/github/eamirhn/Kaggle-Projects/blob/main/Brain_Tumor_Detection.ipynb\" target=\"_parent\"><img src=\"https://colab.research.google.com/assets/colab-badge.svg\" alt=\"Open In Colab\"/></a>"
      ]
    },
    {
      "cell_type": "code",
      "execution_count": null,
      "metadata": {
        "id": "PxWBSGo2ufs_"
      },
      "outputs": [],
      "source": [
        "from google.colab import userdata\n",
        "import os\n",
        "\n",
        "os.environ[\"KAGGLE_KEY\"] = userdata.get('KAGGLE_KEY')\n",
        "os.environ[\"KAGGLE_USERNAME\"] = userdata.get('KAGGLE_USERNAME')"
      ]
    },
    {
      "cell_type": "code",
      "execution_count": null,
      "metadata": {
        "colab": {
          "base_uri": "https://localhost:8080/"
        },
        "id": "AHBYqpWXvKgt",
        "outputId": "266139c0-611e-49fb-c9d5-7f51a86e4891"
      },
      "outputs": [
        {
          "name": "stdout",
          "output_type": "stream",
          "text": [
            "Downloading brian-tumor-dataset.zip to /content\n",
            " 84% 90.0M/107M [00:01<00:00, 91.3MB/s]\n",
            "100% 107M/107M [00:01<00:00, 93.8MB/s] \n"
          ]
        }
      ],
      "source": [
        "dataset_directory = \"Brain Tumor Data Set/Brain Tumor Data Set\"\n",
        "\n",
        "# Check if the dataset directory exists\n",
        "if not os.path.exists(dataset_directory):\n",
        "    # Download the dataset\n",
        "    !kaggle datasets download -d preetviradiya/brian-tumor-dataset\n",
        "\n",
        "    # Unzip the dataset without printing output\n",
        "    !unzip -qq \"brian-tumor-dataset.zip\"\n",
        "\n",
        "    # Delete the zip file\n",
        "    os.remove(\"brian-tumor-dataset.zip\")\n",
        "else:\n",
        "    print(\"Dataset already exists. Skipping download and unzip steps.\")"
      ]
    },
    {
      "cell_type": "code",
      "execution_count": null,
      "metadata": {
        "colab": {
          "base_uri": "https://localhost:8080/"
        },
        "id": "wP3ej4XopeXb",
        "outputId": "2456df18-0cbe-4db4-cae2-9ced10f1810a"
      },
      "outputs": [
        {
          "name": "stdout",
          "output_type": "stream",
          "text": [
            "Collecting split-folders\n",
            "  Downloading split_folders-0.5.1-py3-none-any.whl (8.4 kB)\n",
            "Installing collected packages: split-folders\n",
            "Successfully installed split-folders-0.5.1\n",
            "Collecting torch-summary\n",
            "  Downloading torch_summary-1.4.5-py3-none-any.whl (16 kB)\n",
            "Installing collected packages: torch-summary\n",
            "Successfully installed torch-summary-1.4.5\n"
          ]
        }
      ],
      "source": [
        "!pip install split-folders\n",
        "!pip install torch-summary"
      ]
    },
    {
      "cell_type": "code",
      "execution_count": null,
      "metadata": {
        "id": "OPT8ek_HufHJ"
      },
      "outputs": [],
      "source": [
        "import numpy as np\n",
        "import pandas as pd\n",
        "import matplotlib.pyplot as plt\n",
        "import seaborn as sns; sns.set(style='darkgrid')\n",
        "import copy\n",
        "import os\n",
        "import torch\n",
        "from PIL import Image # A module that Provides functionality for image file formats.\n",
        "from torch.utils.data import Dataset # For accessing and processing the data during training.\n",
        "import torchvision\n",
        "import torchvision.transforms as transforms # A module for editing images\n",
        "from torch.utils.data import random_split\n",
        "from torch.optim.lr_scheduler import ReduceLROnPlateau # A PyTorch scheduler that adjusts the learning rate during training based on a specified metric, reducing it when the metric plateaus.\n",
        "import torch.nn as nn\n",
        "from torchvision import utils\n",
        "from torchvision.datasets import ImageFolder\n",
        "import splitfolders\n",
        "from torchsummary import summary\n",
        "import torch.nn.functional as F\n",
        "import pathlib\n",
        "from sklearn.metrics import confusion_matrix, classification_report\n",
        "import itertools # For efficient looping and combining of iterables.\n",
        "from tqdm.notebook import trange, tqdm # For progress bars to track the progress of loops or tasks.\n",
        "from torch import optim\n",
        "import warnings\n",
        "warnings.filterwarnings('ignore')"
      ]
    },
    {
      "cell_type": "code",
      "execution_count": null,
      "metadata": {
        "colab": {
          "base_uri": "https://localhost:8080/",
          "height": 206
        },
        "id": "fvG5cGnaLVaM",
        "outputId": "a2cdfc24-43f6-45ac-8bb6-61324279d6d1"
      },
      "outputs": [
        {
          "data": {
            "application/vnd.google.colaboratory.intrinsic+json": {
              "summary": "{\n  \"name\": \"labels_df\",\n  \"rows\": 4600,\n  \"fields\": [\n    {\n      \"column\": \"Unnamed: 0\",\n      \"properties\": {\n        \"dtype\": \"number\",\n        \"std\": 1328,\n        \"min\": 0,\n        \"max\": 4599,\n        \"num_unique_values\": 4600,\n        \"samples\": [\n          3683,\n          4411,\n          2584\n        ],\n        \"semantic_type\": \"\",\n        \"description\": \"\"\n      }\n    },\n    {\n      \"column\": \"image\",\n      \"properties\": {\n        \"dtype\": \"string\",\n        \"num_unique_values\": 4600,\n        \"samples\": [\n          \"Not Cancer  (2049).jpg\",\n          \"Not Cancer  (829).jpg\",\n          \"Not Cancer  (1060).jpg\"\n        ],\n        \"semantic_type\": \"\",\n        \"description\": \"\"\n      }\n    },\n    {\n      \"column\": \"class\",\n      \"properties\": {\n        \"dtype\": \"category\",\n        \"num_unique_values\": 2,\n        \"samples\": [\n          \"normal\",\n          \"tumor\"\n        ],\n        \"semantic_type\": \"\",\n        \"description\": \"\"\n      }\n    },\n    {\n      \"column\": \"format\",\n      \"properties\": {\n        \"dtype\": \"category\",\n        \"num_unique_values\": 3,\n        \"samples\": [\n          \"JPEG\",\n          \"PNG\"\n        ],\n        \"semantic_type\": \"\",\n        \"description\": \"\"\n      }\n    },\n    {\n      \"column\": \"mode\",\n      \"properties\": {\n        \"dtype\": \"category\",\n        \"num_unique_values\": 4,\n        \"samples\": [\n          \"L\",\n          \"P\"\n        ],\n        \"semantic_type\": \"\",\n        \"description\": \"\"\n      }\n    },\n    {\n      \"column\": \"shape\",\n      \"properties\": {\n        \"dtype\": \"category\",\n        \"num_unique_values\": 475,\n        \"samples\": [\n          \"(232, 236, 3)\",\n          \"(470, 469, 3)\"\n        ],\n        \"semantic_type\": \"\",\n        \"description\": \"\"\n      }\n    }\n  ]\n}",
              "type": "dataframe",
              "variable_name": "labels_df"
            },
            "text/html": [
              "\n",
              "  <div id=\"df-91f2bb62-e538-43dc-8d20-e02096bb5d83\" class=\"colab-df-container\">\n",
              "    <div>\n",
              "<style scoped>\n",
              "    .dataframe tbody tr th:only-of-type {\n",
              "        vertical-align: middle;\n",
              "    }\n",
              "\n",
              "    .dataframe tbody tr th {\n",
              "        vertical-align: top;\n",
              "    }\n",
              "\n",
              "    .dataframe thead th {\n",
              "        text-align: right;\n",
              "    }\n",
              "</style>\n",
              "<table border=\"1\" class=\"dataframe\">\n",
              "  <thead>\n",
              "    <tr style=\"text-align: right;\">\n",
              "      <th></th>\n",
              "      <th>Unnamed: 0</th>\n",
              "      <th>image</th>\n",
              "      <th>class</th>\n",
              "      <th>format</th>\n",
              "      <th>mode</th>\n",
              "      <th>shape</th>\n",
              "    </tr>\n",
              "  </thead>\n",
              "  <tbody>\n",
              "    <tr>\n",
              "      <th>0</th>\n",
              "      <td>0</td>\n",
              "      <td>Cancer (1).jpg</td>\n",
              "      <td>tumor</td>\n",
              "      <td>JPEG</td>\n",
              "      <td>RGB</td>\n",
              "      <td>(512, 512, 3)</td>\n",
              "    </tr>\n",
              "    <tr>\n",
              "      <th>1</th>\n",
              "      <td>1</td>\n",
              "      <td>Cancer (1).png</td>\n",
              "      <td>tumor</td>\n",
              "      <td>PNG</td>\n",
              "      <td>L</td>\n",
              "      <td>(300, 240)</td>\n",
              "    </tr>\n",
              "    <tr>\n",
              "      <th>2</th>\n",
              "      <td>2</td>\n",
              "      <td>Cancer (1).tif</td>\n",
              "      <td>tumor</td>\n",
              "      <td>TIFF</td>\n",
              "      <td>RGB</td>\n",
              "      <td>(256, 256, 3)</td>\n",
              "    </tr>\n",
              "    <tr>\n",
              "      <th>3</th>\n",
              "      <td>3</td>\n",
              "      <td>Cancer (10).jpg</td>\n",
              "      <td>tumor</td>\n",
              "      <td>JPEG</td>\n",
              "      <td>RGB</td>\n",
              "      <td>(512, 512, 3)</td>\n",
              "    </tr>\n",
              "    <tr>\n",
              "      <th>4</th>\n",
              "      <td>4</td>\n",
              "      <td>Cancer (10).tif</td>\n",
              "      <td>tumor</td>\n",
              "      <td>TIFF</td>\n",
              "      <td>RGB</td>\n",
              "      <td>(256, 256, 3)</td>\n",
              "    </tr>\n",
              "  </tbody>\n",
              "</table>\n",
              "</div>\n",
              "    <div class=\"colab-df-buttons\">\n",
              "\n",
              "  <div class=\"colab-df-container\">\n",
              "    <button class=\"colab-df-convert\" onclick=\"convertToInteractive('df-91f2bb62-e538-43dc-8d20-e02096bb5d83')\"\n",
              "            title=\"Convert this dataframe to an interactive table.\"\n",
              "            style=\"display:none;\">\n",
              "\n",
              "  <svg xmlns=\"http://www.w3.org/2000/svg\" height=\"24px\" viewBox=\"0 -960 960 960\">\n",
              "    <path d=\"M120-120v-720h720v720H120Zm60-500h600v-160H180v160Zm220 220h160v-160H400v160Zm0 220h160v-160H400v160ZM180-400h160v-160H180v160Zm440 0h160v-160H620v160ZM180-180h160v-160H180v160Zm440 0h160v-160H620v160Z\"/>\n",
              "  </svg>\n",
              "    </button>\n",
              "\n",
              "  <style>\n",
              "    .colab-df-container {\n",
              "      display:flex;\n",
              "      gap: 12px;\n",
              "    }\n",
              "\n",
              "    .colab-df-convert {\n",
              "      background-color: #E8F0FE;\n",
              "      border: none;\n",
              "      border-radius: 50%;\n",
              "      cursor: pointer;\n",
              "      display: none;\n",
              "      fill: #1967D2;\n",
              "      height: 32px;\n",
              "      padding: 0 0 0 0;\n",
              "      width: 32px;\n",
              "    }\n",
              "\n",
              "    .colab-df-convert:hover {\n",
              "      background-color: #E2EBFA;\n",
              "      box-shadow: 0px 1px 2px rgba(60, 64, 67, 0.3), 0px 1px 3px 1px rgba(60, 64, 67, 0.15);\n",
              "      fill: #174EA6;\n",
              "    }\n",
              "\n",
              "    .colab-df-buttons div {\n",
              "      margin-bottom: 4px;\n",
              "    }\n",
              "\n",
              "    [theme=dark] .colab-df-convert {\n",
              "      background-color: #3B4455;\n",
              "      fill: #D2E3FC;\n",
              "    }\n",
              "\n",
              "    [theme=dark] .colab-df-convert:hover {\n",
              "      background-color: #434B5C;\n",
              "      box-shadow: 0px 1px 3px 1px rgba(0, 0, 0, 0.15);\n",
              "      filter: drop-shadow(0px 1px 2px rgba(0, 0, 0, 0.3));\n",
              "      fill: #FFFFFF;\n",
              "    }\n",
              "  </style>\n",
              "\n",
              "    <script>\n",
              "      const buttonEl =\n",
              "        document.querySelector('#df-91f2bb62-e538-43dc-8d20-e02096bb5d83 button.colab-df-convert');\n",
              "      buttonEl.style.display =\n",
              "        google.colab.kernel.accessAllowed ? 'block' : 'none';\n",
              "\n",
              "      async function convertToInteractive(key) {\n",
              "        const element = document.querySelector('#df-91f2bb62-e538-43dc-8d20-e02096bb5d83');\n",
              "        const dataTable =\n",
              "          await google.colab.kernel.invokeFunction('convertToInteractive',\n",
              "                                                    [key], {});\n",
              "        if (!dataTable) return;\n",
              "\n",
              "        const docLinkHtml = 'Like what you see? Visit the ' +\n",
              "          '<a target=\"_blank\" href=https://colab.research.google.com/notebooks/data_table.ipynb>data table notebook</a>'\n",
              "          + ' to learn more about interactive tables.';\n",
              "        element.innerHTML = '';\n",
              "        dataTable['output_type'] = 'display_data';\n",
              "        await google.colab.output.renderOutput(dataTable, element);\n",
              "        const docLink = document.createElement('div');\n",
              "        docLink.innerHTML = docLinkHtml;\n",
              "        element.appendChild(docLink);\n",
              "      }\n",
              "    </script>\n",
              "  </div>\n",
              "\n",
              "\n",
              "<div id=\"df-ad5960cd-dc3a-43ad-8222-9a5180e3a56d\">\n",
              "  <button class=\"colab-df-quickchart\" onclick=\"quickchart('df-ad5960cd-dc3a-43ad-8222-9a5180e3a56d')\"\n",
              "            title=\"Suggest charts\"\n",
              "            style=\"display:none;\">\n",
              "\n",
              "<svg xmlns=\"http://www.w3.org/2000/svg\" height=\"24px\"viewBox=\"0 0 24 24\"\n",
              "     width=\"24px\">\n",
              "    <g>\n",
              "        <path d=\"M19 3H5c-1.1 0-2 .9-2 2v14c0 1.1.9 2 2 2h14c1.1 0 2-.9 2-2V5c0-1.1-.9-2-2-2zM9 17H7v-7h2v7zm4 0h-2V7h2v10zm4 0h-2v-4h2v4z\"/>\n",
              "    </g>\n",
              "</svg>\n",
              "  </button>\n",
              "\n",
              "<style>\n",
              "  .colab-df-quickchart {\n",
              "      --bg-color: #E8F0FE;\n",
              "      --fill-color: #1967D2;\n",
              "      --hover-bg-color: #E2EBFA;\n",
              "      --hover-fill-color: #174EA6;\n",
              "      --disabled-fill-color: #AAA;\n",
              "      --disabled-bg-color: #DDD;\n",
              "  }\n",
              "\n",
              "  [theme=dark] .colab-df-quickchart {\n",
              "      --bg-color: #3B4455;\n",
              "      --fill-color: #D2E3FC;\n",
              "      --hover-bg-color: #434B5C;\n",
              "      --hover-fill-color: #FFFFFF;\n",
              "      --disabled-bg-color: #3B4455;\n",
              "      --disabled-fill-color: #666;\n",
              "  }\n",
              "\n",
              "  .colab-df-quickchart {\n",
              "    background-color: var(--bg-color);\n",
              "    border: none;\n",
              "    border-radius: 50%;\n",
              "    cursor: pointer;\n",
              "    display: none;\n",
              "    fill: var(--fill-color);\n",
              "    height: 32px;\n",
              "    padding: 0;\n",
              "    width: 32px;\n",
              "  }\n",
              "\n",
              "  .colab-df-quickchart:hover {\n",
              "    background-color: var(--hover-bg-color);\n",
              "    box-shadow: 0 1px 2px rgba(60, 64, 67, 0.3), 0 1px 3px 1px rgba(60, 64, 67, 0.15);\n",
              "    fill: var(--button-hover-fill-color);\n",
              "  }\n",
              "\n",
              "  .colab-df-quickchart-complete:disabled,\n",
              "  .colab-df-quickchart-complete:disabled:hover {\n",
              "    background-color: var(--disabled-bg-color);\n",
              "    fill: var(--disabled-fill-color);\n",
              "    box-shadow: none;\n",
              "  }\n",
              "\n",
              "  .colab-df-spinner {\n",
              "    border: 2px solid var(--fill-color);\n",
              "    border-color: transparent;\n",
              "    border-bottom-color: var(--fill-color);\n",
              "    animation:\n",
              "      spin 1s steps(1) infinite;\n",
              "  }\n",
              "\n",
              "  @keyframes spin {\n",
              "    0% {\n",
              "      border-color: transparent;\n",
              "      border-bottom-color: var(--fill-color);\n",
              "      border-left-color: var(--fill-color);\n",
              "    }\n",
              "    20% {\n",
              "      border-color: transparent;\n",
              "      border-left-color: var(--fill-color);\n",
              "      border-top-color: var(--fill-color);\n",
              "    }\n",
              "    30% {\n",
              "      border-color: transparent;\n",
              "      border-left-color: var(--fill-color);\n",
              "      border-top-color: var(--fill-color);\n",
              "      border-right-color: var(--fill-color);\n",
              "    }\n",
              "    40% {\n",
              "      border-color: transparent;\n",
              "      border-right-color: var(--fill-color);\n",
              "      border-top-color: var(--fill-color);\n",
              "    }\n",
              "    60% {\n",
              "      border-color: transparent;\n",
              "      border-right-color: var(--fill-color);\n",
              "    }\n",
              "    80% {\n",
              "      border-color: transparent;\n",
              "      border-right-color: var(--fill-color);\n",
              "      border-bottom-color: var(--fill-color);\n",
              "    }\n",
              "    90% {\n",
              "      border-color: transparent;\n",
              "      border-bottom-color: var(--fill-color);\n",
              "    }\n",
              "  }\n",
              "</style>\n",
              "\n",
              "  <script>\n",
              "    async function quickchart(key) {\n",
              "      const quickchartButtonEl =\n",
              "        document.querySelector('#' + key + ' button');\n",
              "      quickchartButtonEl.disabled = true;  // To prevent multiple clicks.\n",
              "      quickchartButtonEl.classList.add('colab-df-spinner');\n",
              "      try {\n",
              "        const charts = await google.colab.kernel.invokeFunction(\n",
              "            'suggestCharts', [key], {});\n",
              "      } catch (error) {\n",
              "        console.error('Error during call to suggestCharts:', error);\n",
              "      }\n",
              "      quickchartButtonEl.classList.remove('colab-df-spinner');\n",
              "      quickchartButtonEl.classList.add('colab-df-quickchart-complete');\n",
              "    }\n",
              "    (() => {\n",
              "      let quickchartButtonEl =\n",
              "        document.querySelector('#df-ad5960cd-dc3a-43ad-8222-9a5180e3a56d button');\n",
              "      quickchartButtonEl.style.display =\n",
              "        google.colab.kernel.accessAllowed ? 'block' : 'none';\n",
              "    })();\n",
              "  </script>\n",
              "</div>\n",
              "    </div>\n",
              "  </div>\n"
            ],
            "text/plain": [
              "   Unnamed: 0            image  class format mode          shape\n",
              "0           0   Cancer (1).jpg  tumor   JPEG  RGB  (512, 512, 3)\n",
              "1           1   Cancer (1).png  tumor    PNG    L     (300, 240)\n",
              "2           2   Cancer (1).tif  tumor   TIFF  RGB  (256, 256, 3)\n",
              "3           3  Cancer (10).jpg  tumor   JPEG  RGB  (512, 512, 3)\n",
              "4           4  Cancer (10).tif  tumor   TIFF  RGB  (256, 256, 3)"
            ]
          },
          "execution_count": 5,
          "metadata": {},
          "output_type": "execute_result"
        }
      ],
      "source": [
        "# Reading data\n",
        "labels_df = pd.read_csv('/content/metadata.csv')\n",
        "labels_df.head()"
      ]
    },
    {
      "cell_type": "code",
      "execution_count": null,
      "metadata": {
        "colab": {
          "base_uri": "https://localhost:8080/"
        },
        "id": "tijQMcibLWtN",
        "outputId": "a369d790-d3d6-4c34-eba4-4040fb5dfe66"
      },
      "outputs": [
        {
          "data": {
            "text/plain": [
              "['Brain Tumor', 'Healthy']"
            ]
          },
          "execution_count": 6,
          "metadata": {},
          "output_type": "execute_result"
        }
      ],
      "source": [
        "os.listdir('/content/Brain Tumor Data Set/Brain Tumor Data Set')"
      ]
    },
    {
      "cell_type": "code",
      "execution_count": null,
      "metadata": {
        "colab": {
          "base_uri": "https://localhost:8080/"
        },
        "id": "V6PLptVFLXDo",
        "outputId": "4bb9c394-c603-4eb5-e943-cf52840b4c6c"
      },
      "outputs": [
        {
          "data": {
            "text/plain": [
              "(4600, 6)"
            ]
          },
          "execution_count": 7,
          "metadata": {},
          "output_type": "execute_result"
        }
      ],
      "source": [
        "labels_df.shape"
      ]
    },
    {
      "cell_type": "code",
      "execution_count": null,
      "metadata": {
        "colab": {
          "base_uri": "https://localhost:8080/"
        },
        "id": "LwgOs7XDMPcE",
        "outputId": "d527a3cb-a1f6-4083-dcf9-ae56c6bf4c8f"
      },
      "outputs": [
        {
          "name": "stderr",
          "output_type": "stream",
          "text": [
            "Copying files: 4600 files [00:03, 1305.83 files/s]\n"
          ]
        }
      ],
      "source": [
        "# Dataset Path\n",
        "data_dir = '/content/Brain Tumor Data Set/Brain Tumor Data Set'\n",
        "data_dir = pathlib.Path(data_dir)\n",
        "\n",
        "# Splitting dataset to train_set, val_set and test_set\n",
        "splitfolders.ratio(data_dir, output='brain', seed=20, ratio=(0.8, 0.2))\n",
        "\n",
        "\n",
        "# New dataset path\n",
        "data_dir = '/content/brain'\n",
        "data_dir = pathlib.Path(data_dir)"
      ]
    },
    {
      "cell_type": "code",
      "execution_count": null,
      "metadata": {
        "id": "AE_8YMx8MP1J"
      },
      "outputs": [],
      "source": [
        "# Image Augmentation\n",
        "  # define transformation\n",
        "transform = transforms.Compose(\n",
        "    [\n",
        "        transforms.Resize((256,256)),\n",
        "        transforms.RandomHorizontalFlip(p=0.5),\n",
        "        transforms.RandomVerticalFlip(p=0.5),\n",
        "        transforms.RandomRotation(30),\n",
        "        transforms.ToTensor(),\n",
        "        transforms.Normalize(mean = [0.485, 0.456, 0.406],std = [0.229, 0.224, 0.225])\n",
        "   ]\n",
        ")"
      ]
    },
    {
      "cell_type": "code",
      "execution_count": null,
      "metadata": {
        "colab": {
          "base_uri": "https://localhost:8080/"
        },
        "id": "YXXdqSIUMQWw",
        "outputId": "09e3a5d5-77c6-4529-8531-6b0d2eee3a68"
      },
      "outputs": [
        {
          "data": {
            "text/plain": [
              "Compose(\n",
              "    Resize(size=(256, 256), interpolation=bilinear, max_size=None, antialias=warn)\n",
              "    RandomHorizontalFlip(p=0.5)\n",
              "    RandomVerticalFlip(p=0.5)\n",
              "    RandomRotation(degrees=[-30.0, 30.0], interpolation=nearest, expand=False, fill=0)\n",
              "    ToTensor()\n",
              "    Normalize(mean=[0.485, 0.456, 0.406], std=[0.229, 0.224, 0.225])\n",
              ")"
            ]
          },
          "execution_count": 10,
          "metadata": {},
          "output_type": "execute_result"
        }
      ],
      "source": [
        "# Define an object of the custom dataset for the train and validation.\n",
        "train_set = torchvision.datasets.ImageFolder(data_dir.joinpath(\"train\"), transform=transform)\n",
        "train_set.transform\n",
        "val_set = torchvision.datasets.ImageFolder(data_dir.joinpath(\"val\"), transform=transform)\n",
        "val_set.transform"
      ]
    },
    {
      "cell_type": "code",
      "execution_count": null,
      "metadata": {
        "id": "LFMJEeuENrJ2"
      },
      "outputs": [],
      "source": [
        "# Visualiztion some images from Train Set\n",
        "CLA_label = {\n",
        "    0 : 'Brain Tumor',\n",
        "    1 : 'Healthy'\n",
        "}\n",
        "figure = plt.figure(figsize=(10, 10))\n",
        "cols, rows = 4, 4\n",
        "for i in range(1, cols * rows + 1):\n",
        "    sample_idx = torch.randint(len(train_set), size=(1,)).item()\n",
        "    img, label = train_set[sample_idx]\n",
        "    figure.add_subplot(rows, cols, i)\n",
        "    plt.title(CLA_label[label])\n",
        "    plt.axis(\"off\")\n",
        "    img_np = img.numpy().transpose((1, 2, 0))\n",
        "    # Clip pixel values to [0, 1]\n",
        "    img_valid_range = np.clip(img_np, 0, 1)\n",
        "    plt.imshow(img_valid_range)\n",
        "    plt.suptitle('Brain Images', y=0.95)\n",
        "plt.show()"
      ]
    },
    {
      "cell_type": "code",
      "execution_count": null,
      "metadata": {
        "id": "uiVLC4avNtOY"
      },
      "outputs": [],
      "source": [
        "# Data Loader\n",
        "# import and load train, validation\n",
        "batch_size = 64\n",
        "\n",
        "train_loader = torch.utils.data.DataLoader(train_set, batch_size = batch_size, shuffle = True, num_workers = 2)\n",
        "val_loader = torch.utils.data.DataLoader(val_set, batch_size = batch_size, shuffle = True, num_workers = 2)"
      ]
    },
    {
      "cell_type": "code",
      "execution_count": null,
      "metadata": {
        "colab": {
          "base_uri": "https://localhost:8080/"
        },
        "id": "YTTUu0FEOtH2",
        "outputId": "42f9d0bd-1f18-454d-d31b-3b0b9c026183"
      },
      "outputs": [
        {
          "name": "stdout",
          "output_type": "stream",
          "text": [
            "Training data:\n",
            "Shape of X : torch.Size([64, 3, 256, 256])\n",
            "Shape of y: torch.Size([64]) torch.int64\n",
            "\n",
            "Validation data:\n",
            "Shape of X : torch.Size([64, 3, 256, 256])\n",
            "Shape of y: torch.Size([64]) torch.int64\n",
            "\n"
          ]
        }
      ],
      "source": [
        "# print shape for Training data and Validation data\n",
        "for key, value in {'Training data': train_loader, \"Validation data\": val_loader}.items():\n",
        "    for X, y in value:\n",
        "        print(f\"{key}:\")\n",
        "        print(f\"Shape of X : {X.shape}\")\n",
        "        print(f\"Shape of y: {y.shape} {y.dtype}\\n\")\n",
        "        break"
      ]
    },
    {
      "cell_type": "code",
      "execution_count": null,
      "metadata": {
        "id": "CXvWgbGiOtl9"
      },
      "outputs": [],
      "source": [
        "'''This function can be useful in determining the output size of a convolutional layer in a neural network,\n",
        "given the input dimensions and the convolutional layer's parameters.'''\n",
        "\n",
        "def findConv2dOutShape(hin,win,conv,pool=2):\n",
        "    # get conv arguments\n",
        "    kernel_size = conv.kernel_size\n",
        "    stride=conv.stride\n",
        "    padding=conv.padding\n",
        "    dilation=conv.dilation\n",
        "\n",
        "    hout=np.floor((hin+2*padding[0]-dilation[0]*(kernel_size[0]-1)-1)/stride[0]+1)\n",
        "    wout=np.floor((win+2*padding[1]-dilation[1]*(kernel_size[1]-1)-1)/stride[1]+1)\n",
        "\n",
        "    if pool:\n",
        "        hout/=pool\n",
        "        wout/=pool\n",
        "    return int(hout),int(wout)"
      ]
    },
    {
      "cell_type": "markdown",
      "metadata": {
        "id": "Ket3dr6MP3uf"
      },
      "source": [
        "![image.png](data:image/png;base64,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)"
      ]
    },
    {
      "cell_type": "code",
      "execution_count": null,
      "metadata": {
        "id": "Nkta0O2wPV00"
      },
      "outputs": [],
      "source": [
        "# Define Architecture For CNN_TUMOR Model\n",
        "class CNN_TUMOR(nn.Module):\n",
        "\n",
        "    # Network Initialisation\n",
        "    def __init__(self, params):\n",
        "\n",
        "        super(CNN_TUMOR, self).__init__()\n",
        "\n",
        "        Cin,Hin,Win = params[\"shape_in\"]\n",
        "        init_f = params[\"initial_filters\"]\n",
        "        num_fc1 = params[\"num_fc1\"]\n",
        "        num_classes = params[\"num_classes\"]\n",
        "        self.dropout_rate = params[\"dropout_rate\"]\n",
        "\n",
        "        # Convolution Layers\n",
        "        self.conv1 = nn.Conv2d(Cin, init_f, kernel_size=3)\n",
        "        h,w=findConv2dOutShape(Hin,Win,self.conv1)\n",
        "        self.conv2 = nn.Conv2d(init_f, 2*init_f, kernel_size=3)\n",
        "        h,w=findConv2dOutShape(h,w,self.conv2)\n",
        "        self.conv3 = nn.Conv2d(2*init_f, 4*init_f, kernel_size=3)\n",
        "        h,w=findConv2dOutShape(h,w,self.conv3)\n",
        "        self.conv4 = nn.Conv2d(4*init_f, 8*init_f, kernel_size=3)\n",
        "        h,w=findConv2dOutShape(h,w,self.conv4)\n",
        "\n",
        "        # compute the flatten size\n",
        "        self.num_flatten=h*w*8*init_f\n",
        "        self.fc1 = nn.Linear(self.num_flatten, num_fc1)\n",
        "        self.fc2 = nn.Linear(num_fc1, num_classes)\n",
        "\n",
        "    def forward(self,X):\n",
        "\n",
        "        # Convolution & Pool Layers\n",
        "        X = F.relu(self.conv1(X));\n",
        "        X = F.max_pool2d(X, 2, 2)\n",
        "        X = F.relu(self.conv2(X))\n",
        "        X = F.max_pool2d(X, 2, 2)\n",
        "        X = F.relu(self.conv3(X))\n",
        "        X = F.max_pool2d(X, 2, 2)\n",
        "        X = F.relu(self.conv4(X))\n",
        "        X = F.max_pool2d(X, 2, 2)\n",
        "        X = X.view(-1, self.num_flatten)\n",
        "        X = F.relu(self.fc1(X))\n",
        "        X = F.dropout(X, self.dropout_rate)\n",
        "        X = self.fc2(X)\n",
        "        return F.log_softmax(X, dim=1)"
      ]
    },
    {
      "cell_type": "code",
      "execution_count": null,
      "metadata": {
        "id": "rQYhbrfwPxzR"
      },
      "outputs": [],
      "source": [
        "params_model={\n",
        "        \"shape_in\": (3,256,256),\n",
        "        \"initial_filters\": 8,\n",
        "        \"num_fc1\": 100,\n",
        "        \"dropout_rate\": 0.25,\n",
        "        \"num_classes\": 2}\n",
        "\n",
        "# Create instantiation of Network class\n",
        "cnn_model = CNN_TUMOR(params_model)\n",
        "\n",
        "# define computation hardware approach (GPU/CPU)\n",
        "device = torch.device('cuda' if torch.cuda.is_available() else 'cpu')\n",
        "model = cnn_model.to(device)"
      ]
    },
    {
      "cell_type": "code",
      "execution_count": null,
      "metadata": {
        "colab": {
          "base_uri": "https://localhost:8080/"
        },
        "id": "_d3Im4MOPv_3",
        "outputId": "8be0a81a-fd80-4474-cf40-7a9e496d7164"
      },
      "outputs": [
        {
          "name": "stdout",
          "output_type": "stream",
          "text": [
            "=================================================================\n",
            "Layer (type:depth-idx)                   Param #\n",
            "=================================================================\n",
            "├─Conv2d: 1-1                            224\n",
            "├─Conv2d: 1-2                            1,168\n",
            "├─Conv2d: 1-3                            4,640\n",
            "├─Conv2d: 1-4                            18,496\n",
            "├─Linear: 1-5                            1,254,500\n",
            "├─Linear: 1-6                            202\n",
            "=================================================================\n",
            "Total params: 1,279,230\n",
            "Trainable params: 1,279,230\n",
            "Non-trainable params: 0\n",
            "=================================================================\n"
          ]
        },
        {
          "data": {
            "text/plain": [
              "=================================================================\n",
              "Layer (type:depth-idx)                   Param #\n",
              "=================================================================\n",
              "├─Conv2d: 1-1                            224\n",
              "├─Conv2d: 1-2                            1,168\n",
              "├─Conv2d: 1-3                            4,640\n",
              "├─Conv2d: 1-4                            18,496\n",
              "├─Linear: 1-5                            1,254,500\n",
              "├─Linear: 1-6                            202\n",
              "=================================================================\n",
              "Total params: 1,279,230\n",
              "Trainable params: 1,279,230\n",
              "Non-trainable params: 0\n",
              "================================================================="
            ]
          },
          "execution_count": 29,
          "metadata": {},
          "output_type": "execute_result"
        }
      ],
      "source": [
        "summary(cnn_model, input_size=(3, 256, 256),device=device.type)\n"
      ]
    },
    {
      "cell_type": "code",
      "execution_count": null,
      "metadata": {
        "id": "f3mQnpM3PWNt"
      },
      "outputs": [],
      "source": [
        "loss_func = nn.NLLLoss(reduction=\"sum\")\n"
      ]
    },
    {
      "cell_type": "code",
      "execution_count": null,
      "metadata": {
        "colab": {
          "background_save": true
        },
        "id": "14CeI5HjPWoT"
      },
      "outputs": [],
      "source": [
        "opt = optim.Adam(cnn_model.parameters(), lr=3e-4)\n",
        "lr_scheduler = ReduceLROnPlateau(opt, mode='min',factor=0.5, patience=20,verbose=1)"
      ]
    },
    {
      "cell_type": "code",
      "execution_count": 20,
      "metadata": {
        "id": "qH0mjlVcQ_sP"
      },
      "outputs": [],
      "source": [
        "# Function to get the learning rate\n",
        "def get_lr(opt):\n",
        "    for param_group in opt.param_groups:\n",
        "        return param_group['lr']\n",
        "\n",
        "# Function to compute the loss value per batch of data\n",
        "def loss_batch(loss_func, output, target, opt=None):\n",
        "\n",
        "    loss = loss_func(output, target) # get loss\n",
        "    pred = output.argmax(dim=1, keepdim=True) # Get Output Class\n",
        "    metric_b=pred.eq(target.view_as(pred)).sum().item() # get performance metric\n",
        "\n",
        "    if opt is not None:\n",
        "        opt.zero_grad()\n",
        "        loss.backward()\n",
        "        opt.step()\n",
        "\n",
        "    return loss.item(), metric_b\n",
        "\n",
        "# Compute the loss value & performance metric for the entire dataset (epoch)\n",
        "def loss_epoch(model,loss_func,dataset_dl,opt=None):\n",
        "\n",
        "    run_loss=0.0\n",
        "    t_metric=0.0\n",
        "    len_data=len(dataset_dl.dataset)\n",
        "\n",
        "    # internal loop over dataset\n",
        "    for xb, yb in dataset_dl:\n",
        "        # move batch to device\n",
        "        xb=xb.to(device)\n",
        "        yb=yb.to(device)\n",
        "        output=model(xb) # get model output\n",
        "        loss_b,metric_b=loss_batch(loss_func, output, yb, opt) # get loss per batch\n",
        "        run_loss+=loss_b        # update running loss\n",
        "\n",
        "        if metric_b is not None: # update running metric\n",
        "            t_metric+=metric_b\n",
        "\n",
        "    loss=run_loss/float(len_data)  # average loss value\n",
        "    metric=t_metric/float(len_data) # average metric value\n",
        "\n",
        "    return loss, metric"
      ]
    },
    {
      "cell_type": "code",
      "execution_count": 21,
      "metadata": {
        "id": "Tq2uH94fQQZC"
      },
      "outputs": [],
      "source": [
        "def Train_Val(model, params,verbose=False):\n",
        "\n",
        "    # Get the parameters\n",
        "    epochs=params[\"epochs\"]\n",
        "    loss_func=params[\"f_loss\"]\n",
        "    opt=params[\"optimiser\"]\n",
        "    train_dl=params[\"train\"]\n",
        "    val_dl=params[\"val\"]\n",
        "    lr_scheduler=params[\"lr_change\"]\n",
        "    weight_path=params[\"weight_path\"]\n",
        "\n",
        "    # history of loss values in each epoch\n",
        "    loss_history={\"train\": [],\"val\": []}\n",
        "    # histroy of metric values in each epoch\n",
        "    metric_history={\"train\": [],\"val\": []}\n",
        "    # a deep copy of weights for the best performing model\n",
        "    best_model_wts = copy.deepcopy(model.state_dict())\n",
        "    # initialize best loss to a large value\n",
        "    best_loss=float('inf')\n",
        "\n",
        "# Train Model n_epochs (the progress of training by printing the epoch number and the associated learning rate. It can be helpful for debugging, monitoring the learning rate schedule, or gaining insights into the training process.)\n",
        "\n",
        "    for epoch in tqdm(range(epochs)):\n",
        "\n",
        "        # Get the Learning Rate\n",
        "        current_lr=get_lr(opt)\n",
        "        if(verbose):\n",
        "            print('Epoch {}/{}, current lr={}'.format(epoch, epochs - 1, current_lr))\n",
        "\n",
        "\n",
        "# Train Model Process\n",
        "\n",
        "\n",
        "        model.train()\n",
        "        train_loss, train_metric = loss_epoch(model,loss_func,train_dl,opt)\n",
        "\n",
        "        # collect losses\n",
        "        loss_history[\"train\"].append(train_loss)\n",
        "        metric_history[\"train\"].append(train_metric)\n",
        "\n",
        "\n",
        "# Evaluate Model Process\n",
        "\n",
        "\n",
        "        model.eval()\n",
        "        with torch.no_grad():\n",
        "            val_loss, val_metric = loss_epoch(model,loss_func,val_dl)\n",
        "\n",
        "        # store best model\n",
        "        if(val_loss < best_loss):\n",
        "            best_loss = val_loss\n",
        "            best_model_wts = copy.deepcopy(model.state_dict())\n",
        "\n",
        "            # store weights into a local file\n",
        "            torch.save(model.state_dict(), weight_path)\n",
        "            if(verbose):\n",
        "                print(\"Copied best model weights!\")\n",
        "\n",
        "        # collect loss and metric for validation dataset\n",
        "        loss_history[\"val\"].append(val_loss)\n",
        "        metric_history[\"val\"].append(val_metric)\n",
        "\n",
        "        # learning rate schedule\n",
        "        lr_scheduler.step(val_loss)\n",
        "        if current_lr != get_lr(opt):\n",
        "            if(verbose):\n",
        "                print(\"Loading best model weights!\")\n",
        "            model.load_state_dict(best_model_wts)\n",
        "\n",
        "        if(verbose):\n",
        "            print(f\"train loss: {train_loss:.6f}, dev loss: {val_loss:.6f}, accuracy: {100*val_metric:.2f}\")\n",
        "            print(\"-\"*10)\n",
        "\n",
        "    # load best model weights\n",
        "    model.load_state_dict(best_model_wts)\n",
        "\n",
        "    return model, loss_history, metric_history"
      ]
    },
    {
      "cell_type": "code",
      "execution_count": 22,
      "metadata": {
        "colab": {
          "base_uri": "https://localhost:8080/",
          "height": 49,
          "referenced_widgets": [
            "64c25959898e4d84b6004f4615639e95",
            "4257b1923129462c92d81d041fb3d409",
            "194ff4dc63a94249a1fea3c719638e41",
            "17da5d6fbeba402da925b1823abac5ac",
            "7556046b3e914425bc3b229a1d4954f5",
            "90eb621fa06b45faafc0248200ecd316",
            "bedf9183b8444c4eac7d97caf99c10a9",
            "9ff3f4310c5348798e2c796ac8d7f56e",
            "88bf22b622654dc2b3d2fdf266e11cab",
            "a94d855783a24ec2b7343a26a592083e",
            "bbe277da91cd44edae5ea5cc62fa7763"
          ]
        },
        "id": "3Iq4QiIWQVRZ",
        "outputId": "e7535272-43d6-4895-dd17-41bff2b0bc88"
      },
      "outputs": [
        {
          "data": {
            "application/vnd.jupyter.widget-view+json": {
              "model_id": "64c25959898e4d84b6004f4615639e95",
              "version_major": 2,
              "version_minor": 0
            },
            "text/plain": [
              "  0%|          | 0/60 [00:00<?, ?it/s]"
            ]
          },
          "metadata": {},
          "output_type": "display_data"
        }
      ],
      "source": [
        "# Define various parameters used for training and evaluation of a cnn_model\n",
        "\n",
        "params_train={\n",
        " \"train\": train_loader,\"val\": val_loader,\n",
        " \"epochs\": 60,\n",
        " \"optimiser\": optim.Adam(cnn_model.parameters(),lr=3e-4),\n",
        " \"lr_change\": ReduceLROnPlateau(opt,\n",
        "                                mode='min',\n",
        "                                factor=0.5,\n",
        "                                patience=20,\n",
        "                                verbose=0),\n",
        " \"f_loss\": nn.NLLLoss(reduction=\"sum\"),\n",
        " \"weight_path\": \"weights.pt\",\n",
        "}\n",
        "\n",
        "# train and validate the model\n",
        "cnn_model,loss_hist,metric_hist = Train_Val(cnn_model,params_train)"
      ]
    },
    {
      "cell_type": "code",
      "execution_count": 23,
      "metadata": {
        "id": "tdOIwYyVQYuS",
        "colab": {
          "base_uri": "https://localhost:8080/",
          "height": 436
        },
        "outputId": "227beed4-c6b4-46ec-cfce-e6ed9eff12b3"
      },
      "outputs": [
        {
          "output_type": "execute_result",
          "data": {
            "text/plain": [
              "<Axes: >"
            ]
          },
          "metadata": {},
          "execution_count": 23
        },
        {
          "output_type": "display_data",
          "data": {
            "text/plain": [
              "<Figure size 1200x500 with 2 Axes>"
            ],
            "image/png": "[encoded data removed]"
          },
          "metadata": {}
        }
      ],
      "source": [
        "# Convergence History Plot\n",
        "epochs=params_train[\"epochs\"]\n",
        "fig,ax = plt.subplots(1,2,figsize=(12,5))\n",
        "\n",
        "sns.lineplot(x=[*range(1,epochs+1)],y=loss_hist[\"train\"],ax=ax[0],label='loss_hist[\"train\"]')\n",
        "sns.lineplot(x=[*range(1,epochs+1)],y=loss_hist[\"val\"],ax=ax[0],label='loss_hist[\"val\"]')\n",
        "sns.lineplot(x=[*range(1,epochs+1)],y=metric_hist[\"train\"],ax=ax[1],label='Acc_hist[\"train\"]')\n",
        "sns.lineplot(x=[*range(1,epochs+1)],y=metric_hist[\"val\"],ax=ax[1],label='Acc_hist[\"val\"]')"
      ]
    },
    {
      "cell_type": "code",
      "execution_count": 24,
      "metadata": {
        "id": "QG0ZYtWeRMAz",
        "colab": {
          "base_uri": "https://localhost:8080/"
        },
        "outputId": "5341e8d1-2fd1-4268-a569-fda3a224bfce"
      },
      "outputs": [
        {
          "output_type": "stream",
          "name": "stdout",
          "text": [
            "              precision    recall  f1-score   support\n",
            "\n",
            "         0.0       0.98      0.98      0.98       503\n",
            "         1.0       0.98      0.98      0.98       418\n",
            "\n",
            "    accuracy                           0.98       921\n",
            "   macro avg       0.98      0.98      0.98       921\n",
            "weighted avg       0.98      0.98      0.98       921\n",
            " \n",
            "\n",
            "\n"
          ]
        }
      ],
      "source": [
        "# define function For Classification Report\n",
        "def Ture_and_Pred(val_loader, model):\n",
        "    i = 0\n",
        "    y_true = []\n",
        "    y_pred = []\n",
        "    for images, labels in val_loader:\n",
        "        images = images.to(device)\n",
        "        labels = labels.numpy()\n",
        "        outputs = model(images)\n",
        "        _, pred = torch.max(outputs.data, 1)\n",
        "        pred = pred.detach().cpu().numpy()\n",
        "\n",
        "        y_true = np.append(y_true, labels)\n",
        "        y_pred = np.append(y_pred, pred)\n",
        "\n",
        "    return y_true, y_pred\n",
        "\n",
        "\n",
        "# check confusion matrix for error analysis\n",
        "y_true, y_pred = Ture_and_Pred(val_loader, cnn_model)\n",
        "\n",
        "print(classification_report(y_true, y_pred), '\\n\\n')\n",
        "cm = confusion_matrix(y_true, y_pred)"
      ]
    },
    {
      "cell_type": "code",
      "execution_count": 25,
      "metadata": {
        "id": "_qT37GSdROsB",
        "colab": {
          "base_uri": "https://localhost:8080/",
          "height": 701
        },
        "outputId": "3b1be53d-5629-4fb2-ec04-5892c2993b02"
      },
      "outputs": [
        {
          "output_type": "display_data",
          "data": {
            "text/plain": [
              "<Figure size 1000x700 with 2 Axes>"
            ],
            "image/png": "[encoded data removed]"
          },
          "metadata": {}
        }
      ],
      "source": [
        "# Confusion Matrix Plotting Function\n",
        "def show_confusion_matrix(cm, CLA_label, title='Confusion matrix', cmap=plt.cm.YlGnBu):\n",
        "\n",
        "    plt.figure(figsize=(10,7))\n",
        "    plt.grid(False)\n",
        "    plt.imshow(cm, interpolation='nearest', cmap=cmap)\n",
        "    plt.title(title)\n",
        "    plt.colorbar()\n",
        "    tick_marks = np.arange(len(CLA_label))\n",
        "\n",
        "    plt.xticks(tick_marks, [f\"{value}={key}\" for key , value in CLA_label.items()], rotation=45)\n",
        "    plt.yticks(tick_marks, [f\"{value}={key}\" for key , value in CLA_label.items()])\n",
        "\n",
        "    thresh = cm.max() / 2.\n",
        "    for i, j in itertools.product(range(cm.shape[0]), range(cm.shape[1])):\n",
        "        plt.text(j, i, f\"{cm[i,j]}\\n{cm[i,j]/np.sum(cm)*100:.2f}%\", horizontalalignment=\"center\", color=\"white\" if cm[i, j] > thresh else \"black\")\n",
        "\n",
        "    plt.ylabel('Actual')\n",
        "    plt.xlabel('Predicted')\n",
        "    plt.tight_layout()\n",
        "    plt.show()\n",
        "\n",
        "show_confusion_matrix(cm, CLA_label)"
      ]
    },
    {
      "cell_type": "code",
      "execution_count": 26,
      "metadata": {
        "id": "1iy4qCKSRQ8a"
      },
      "outputs": [],
      "source": [
        "torch.save(cnn_model, \"Brain_Tumor_model.pt\")"
      ]
    },
    {
      "cell_type": "code",
      "execution_count": null,
      "metadata": {
        "id": "1h4IlQBZRTho"
      },
      "outputs": [],
      "source": []
    },
    {
      "cell_type": "markdown",
      "source": [
        "Using transfer learning VGG16"
      ],
      "metadata": {
        "id": "TUwCHSnyrXcW"
      }
    },
    {
      "cell_type": "code",
      "source": [
        "DEVICE = torch.device('cuda' if torch.cuda.is_available() else 'cpu')"
      ],
      "metadata": {
        "id": "Dnzwe_86rwSP"
      },
      "execution_count": 27,
      "outputs": []
    },
    {
      "cell_type": "code",
      "source": [
        "def train_model(model, train_loader, valid_loader, criterion, optimizer, epochs, device):\n",
        "    model.to(device)\n",
        "\n",
        "    train_losses = []\n",
        "    valid_losses = []\n",
        "    train_accuracies = []\n",
        "    valid_accuracies = []\n",
        "\n",
        "    for epoch in range(epochs):\n",
        "        # Training\n",
        "        model.train()\n",
        "        total_loss = 0.0\n",
        "        correct = 0\n",
        "        total = 0\n",
        "        train_bar = tqdm(train_loader, desc=f'Epoch {epoch + 1}/{epochs}, Training')\n",
        "        for inputs, labels in train_bar:\n",
        "            inputs, labels = inputs.to(device), labels.to(device)\n",
        "\n",
        "            optimizer.zero_grad()  # Zero the gradients\n",
        "\n",
        "            # Pass inputs through the model and obtain the output logits\n",
        "            outputs = model(inputs)\n",
        "\n",
        "            # Compute the loss between the model's output and the ground truth labels\n",
        "            loss = criterion(outputs, labels)\n",
        "\n",
        "            # Perform backpropagation to compute gradients\n",
        "            loss.backward()\n",
        "\n",
        "            # Update the model's parameters based on the computed gradients\n",
        "            optimizer.step()\n",
        "\n",
        "            # Add the current loss to the running total of losses\n",
        "            total_loss += loss.item()\n",
        "\n",
        "            # Extract the class with the highest score for each instance in the batch\n",
        "            _, predicted = torch.max(outputs, 1)\n",
        "\n",
        "            # Count the number of correct predictions\n",
        "            correct += (predicted == labels).sum().item()\n",
        "\n",
        "            total += labels.size(0)\n",
        "            train_bar.set_postfix(loss=f'{total_loss / len(train_loader):.4f}', accuracy=f'{correct / total:.4f}')\n",
        "\n",
        "        train_accuracy = correct / total\n",
        "        train_losses.append(total_loss / len(train_loader))\n",
        "        train_accuracies.append(train_accuracy)\n",
        "\n",
        "        # Validation\n",
        "        model.eval()\n",
        "        total = 0\n",
        "        correct = 0\n",
        "        valid_loss = 0.0\n",
        "        valid_bar = tqdm(valid_loader, desc=f'Epoch {epoch + 1}/{epochs}, Validation')\n",
        "        with torch.no_grad():\n",
        "            for inputs, labels in valid_bar:\n",
        "                inputs, labels = inputs.to(device), labels.to(device)\n",
        "\n",
        "                # Pass inputs through the model and obtain the output logits\n",
        "                outputs = model(inputs)\n",
        "\n",
        "                # Compute the loss between the model's output and the validation set labels\n",
        "                loss = criterion(outputs, labels)\n",
        "\n",
        "                # Add the current loss to the running total of validation losses\n",
        "                valid_loss += loss.item()\n",
        "\n",
        "                # Extract the class with the highest score for each instance in the batch\n",
        "                _, predicted = torch.max(outputs, 1)\n",
        "\n",
        "                # Count the number of correct predictions\n",
        "                correct += (predicted == labels).sum().item()\n",
        "\n",
        "                total += labels.size(0)\n",
        "                valid_bar.set_postfix(loss=f'{valid_loss / len(valid_loader):.4f}', accuracy=f'{correct / total:.4f}')\n",
        "\n",
        "            valid_accuracy = correct / total\n",
        "            valid_losses.append(valid_loss / len(valid_loader))\n",
        "            valid_accuracies.append(valid_accuracy)\n",
        "\n",
        "            print(f'Epoch {epoch + 1}/{epochs}, Validation Accuracy: {valid_accuracy:.4f}')\n",
        "\n",
        "    print('Training complete.')\n",
        "\n",
        "    return train_losses, valid_losses, train_accuracies, valid_accuracies\n"
      ],
      "metadata": {
        "id": "bDonc_XXtDd9"
      },
      "execution_count": 28,
      "outputs": []
    },
    {
      "cell_type": "code",
      "source": [
        "# Mode 2: Transfer Learning\n",
        "from torchvision.models import vgg16\n",
        "\n",
        "# Define VGG16 model with transfer learning\n",
        "model_transfer_learning = vgg16(pretrained=True)\n",
        "\n",
        "# Modify the classifier to match the number of classes in your dataset\n",
        "num_classes = 2\n",
        "model_transfer_learning.classifier[6] = nn.Linear(4096, num_classes)\n",
        "\n",
        "# Define loss function\n",
        "criterion_transfer_learning = nn.CrossEntropyLoss()\n",
        "\n",
        "# Define optimizer without weight decay for regularization\n",
        "# use SGD as optimizer\n",
        "# set learning rate to 0.001 and momentum to 0.9\n",
        "optimizer_transfer_learning = optim.SGD(model_transfer_learning.parameters(), lr=0.001, momentum=0.9)\n",
        "\n",
        "# Train the model using the train_model function\n",
        "train_losses, valid_losses, train_accuracies, valid_accuracies = train_model(\n",
        "    model_transfer_learning,\n",
        "    train_loader,\n",
        "    val_loader,\n",
        "    criterion_transfer_learning,\n",
        "    optimizer_transfer_learning,\n",
        "    epochs=10,\n",
        "    device=DEVICE\n",
        ")"
      ],
      "metadata": {
        "colab": {
          "base_uri": "https://localhost:8080/",
          "height": 104,
          "referenced_widgets": [
            "eaebe449133c477d83e3187a65d678a9",
            "4ce83c60ad884d3e95a65b53319c4509",
            "f7017badc3b34b2b82a5b5a7f82a6bc9",
            "639abea46bec4c9da00e241fc7bf540a",
            "39a2eb1940ba4b2fb17de0ba6593237e",
            "fcbed7e909d54d96aed3dee14689550b",
            "a6d2b61e5ba4447fbb3871d9c3cdcfa7",
            "519607d0240d4313a88457d9e38fa85b",
            "6468675edee5490d8a65e617460c67db",
            "986c6fd352114534843918189533a40d",
            "ceeb65f44ec34e10baa358747b4635c7"
          ]
        },
        "id": "WuWROWGor021",
        "outputId": "a2f6993a-b4ba-48a3-c25d-ad62b53027f2"
      },
      "execution_count": null,
      "outputs": [
        {
          "output_type": "stream",
          "name": "stderr",
          "text": [
            "Downloading: \"https://download.pytorch.org/models/vgg16-397923af.pth\" to /root/.cache/torch/hub/checkpoints/vgg16-397923af.pth\n",
            "100%|██████████| 528M/528M [00:06<00:00, 80.3MB/s]\n"
          ]
        },
        {
          "output_type": "display_data",
          "data": {
            "text/plain": [
              "Epoch 1/10, Training:   0%|          | 0/58 [00:00<?, ?it/s]"
            ],
            "application/vnd.jupyter.widget-view+json": {
              "version_major": 2,
              "version_minor": 0,
              "model_id": "eaebe449133c477d83e3187a65d678a9"
            }
          },
          "metadata": {}
        }
      ]
    },
    {
      "cell_type": "code",
      "source": [
        "# Function to plot loss and accuracy curves\n",
        "def plot_curves(train_losses, valid_losses, train_accuracies, valid_accuracies):\n",
        "    epochs = range(1, len(train_losses) + 1)\n",
        "\n",
        "    # Plotting Loss Curves\n",
        "    plt.figure(figsize=(12, 4))\n",
        "    plt.subplot(1, 2, 1)\n",
        "    plt.plot(epochs, train_losses, label='Train Loss')\n",
        "    plt.plot(epochs, valid_losses, label='Valid Loss')\n",
        "    plt.title('Training and Validation Loss')\n",
        "    plt.xlabel('Epochs')\n",
        "    plt.ylabel('Loss')\n",
        "    plt.legend()\n",
        "\n",
        "    # Plotting Accuracy Curves\n",
        "    plt.subplot(1, 2, 2)\n",
        "    plt.plot(epochs, train_accuracies, label='Train Accuracy')\n",
        "    plt.plot(epochs, valid_accuracies, label='Valid Accuracy')\n",
        "    plt.title('Training and Validation Accuracy')\n",
        "    plt.xlabel('Epochs')\n",
        "    plt.ylabel('Accuracy')\n",
        "    plt.legend()\n",
        "\n",
        "    plt.tight_layout()\n",
        "    plt.show()"
      ],
      "metadata": {
        "id": "Rf9EhyJtOyfb"
      },
      "execution_count": null,
      "outputs": []
    },
    {
      "cell_type": "code",
      "source": [
        "plot_curves(train_losses, valid_losses, train_accuracies, valid_accuracies)\n",
        "test_model(model_transfer_learning, test_loader, criterion_transfer_learning, device=DEVICE)"
      ],
      "metadata": {
        "id": "cAnEFlv3O3XG"
      },
      "execution_count": null,
      "outputs": []
    },
    {
      "cell_type": "code",
      "source": [],
      "metadata": {
        "id": "boEZ6paKPH-B"
      },
      "execution_count": null,
      "outputs": []
    }
  ],
  "metadata": {
    "colab": {
      "provenance": [],
      "authorship_tag": "ABX9TyPTuTC/+s5jjmDl/kLzdbZt",
      "include_colab_link": true
    },
    "kernelspec": {
      "display_name": "Python 3",
      "name": "python3"
    },
    "language_info": {
      "name": "python"
    },
    "widgets": {
      "application/vnd.jupyter.widget-state+json": {
        "64c25959898e4d84b6004f4615639e95": {
          "model_module": "@jupyter-widgets/controls",
          "model_name": "HBoxModel",
          "model_module_version": "1.5.0",
          "state": {
            "_dom_classes": [],
            "_model_module": "@jupyter-widgets/controls",
            "_model_module_version": "1.5.0",
            "_model_name": "HBoxModel",
            "_view_count": null,
            "_view_module": "@jupyter-widgets/controls",
            "_view_module_version": "1.5.0",
            "_view_name": "HBoxView",
            "box_style": "",
            "children": [
              "IPY_MODEL_4257b1923129462c92d81d041fb3d409",
              "IPY_MODEL_194ff4dc63a94249a1fea3c719638e41",
              "IPY_MODEL_17da5d6fbeba402da925b1823abac5ac"
            ],
            "layout": "IPY_MODEL_7556046b3e914425bc3b229a1d4954f5"
          }
        },
        "4257b1923129462c92d81d041fb3d409": {
          "model_module": "@jupyter-widgets/controls",
          "model_name": "HTMLModel",
          "model_module_version": "1.5.0",
          "state": {
            "_dom_classes": [],
            "_model_module": "@jupyter-widgets/controls",
            "_model_module_version": "1.5.0",
            "_model_name": "HTMLModel",
            "_view_count": null,
            "_view_module": "@jupyter-widgets/controls",
            "_view_module_version": "1.5.0",
            "_view_name": "HTMLView",
            "description": "",
            "description_tooltip": null,
            "layout": "IPY_MODEL_90eb621fa06b45faafc0248200ecd316",
            "placeholder": "​",
            "style": "IPY_MODEL_bedf9183b8444c4eac7d97caf99c10a9",
            "value": "100%"
          }
        },
        "194ff4dc63a94249a1fea3c719638e41": {
          "model_module": "@jupyter-widgets/controls",
          "model_name": "FloatProgressModel",
          "model_module_version": "1.5.0",
          "state": {
            "_dom_classes": [],
            "_model_module": "@jupyter-widgets/controls",
            "_model_module_version": "1.5.0",
            "_model_name": "FloatProgressModel",
            "_view_count": null,
            "_view_module": "@jupyter-widgets/controls",
            "_view_module_version": "1.5.0",
            "_view_name": "ProgressView",
            "bar_style": "success",
            "description": "",
            "description_tooltip": null,
            "layout": "IPY_MODEL_9ff3f4310c5348798e2c796ac8d7f56e",
            "max": 60,
            "min": 0,
            "orientation": "horizontal",
            "style": "IPY_MODEL_88bf22b622654dc2b3d2fdf266e11cab",
            "value": 60
          }
        },
        "17da5d6fbeba402da925b1823abac5ac": {
          "model_module": "@jupyter-widgets/controls",
          "model_name": "HTMLModel",
          "model_module_version": "1.5.0",
          "state": {
            "_dom_classes": [],
            "_model_module": "@jupyter-widgets/controls",
            "_model_module_version": "1.5.0",
            "_model_name": "HTMLModel",
            "_view_count": null,
            "_view_module": "@jupyter-widgets/controls",
            "_view_module_version": "1.5.0",
            "_view_name": "HTMLView",
            "description": "",
            "description_tooltip": null,
            "layout": "IPY_MODEL_a94d855783a24ec2b7343a26a592083e",
            "placeholder": "​",
            "style": "IPY_MODEL_bbe277da91cd44edae5ea5cc62fa7763",
            "value": " 60/60 [2:31:51&lt;00:00, 144.77s/it]"
          }
        },
        "7556046b3e914425bc3b229a1d4954f5": {
          "model_module": "@jupyter-widgets/base",
          "model_name": "LayoutModel",
          "model_module_version": "1.2.0",
          "state": {
            "_model_module": "@jupyter-widgets/base",
            "_model_module_version": "1.2.0",
            "_model_name": "LayoutModel",
            "_view_count": null,
            "_view_module": "@jupyter-widgets/base",
            "_view_module_version": "1.2.0",
            "_view_name": "LayoutView",
            "align_content": null,
            "align_items": null,
            "align_self": null,
            "border": null,
            "bottom": null,
            "display": null,
            "flex": null,
            "flex_flow": null,
            "grid_area": null,
            "grid_auto_columns": null,
            "grid_auto_flow": null,
            "grid_auto_rows": null,
            "grid_column": null,
            "grid_gap": null,
            "grid_row": null,
            "grid_template_areas": null,
            "grid_template_columns": null,
            "grid_template_rows": null,
            "height": null,
            "justify_content": null,
            "justify_items": null,
            "left": null,
            "margin": null,
            "max_height": null,
            "max_width": null,
            "min_height": null,
            "min_width": null,
            "object_fit": null,
            "object_position": null,
            "order": null,
            "overflow": null,
            "overflow_x": null,
            "overflow_y": null,
            "padding": null,
            "right": null,
            "top": null,
            "visibility": null,
            "width": null
          }
        },
        "90eb621fa06b45faafc0248200ecd316": {
          "model_module": "@jupyter-widgets/base",
          "model_name": "LayoutModel",
          "model_module_version": "1.2.0",
          "state": {
            "_model_module": "@jupyter-widgets/base",
            "_model_module_version": "1.2.0",
            "_model_name": "LayoutModel",
            "_view_count": null,
            "_view_module": "@jupyter-widgets/base",
            "_view_module_version": "1.2.0",
            "_view_name": "LayoutView",
            "align_content": null,
            "align_items": null,
            "align_self": null,
            "border": null,
            "bottom": null,
            "display": null,
            "flex": null,
            "flex_flow": null,
            "grid_area": null,
            "grid_auto_columns": null,
            "grid_auto_flow": null,
            "grid_auto_rows": null,
            "grid_column": null,
            "grid_gap": null,
            "grid_row": null,
            "grid_template_areas": null,
            "grid_template_columns": null,
            "grid_template_rows": null,
            "height": null,
            "justify_content": null,
            "justify_items": null,
            "left": null,
            "margin": null,
            "max_height": null,
            "max_width": null,
            "min_height": null,
            "min_width": null,
            "object_fit": null,
            "object_position": null,
            "order": null,
            "overflow": null,
            "overflow_x": null,
            "overflow_y": null,
            "padding": null,
            "right": null,
            "top": null,
            "visibility": null,
            "width": null
          }
        },
        "bedf9183b8444c4eac7d97caf99c10a9": {
          "model_module": "@jupyter-widgets/controls",
          "model_name": "DescriptionStyleModel",
          "model_module_version": "1.5.0",
          "state": {
            "_model_module": "@jupyter-widgets/controls",
            "_model_module_version": "1.5.0",
            "_model_name": "DescriptionStyleModel",
            "_view_count": null,
            "_view_module": "@jupyter-widgets/base",
            "_view_module_version": "1.2.0",
            "_view_name": "StyleView",
            "description_width": ""
          }
        },
        "9ff3f4310c5348798e2c796ac8d7f56e": {
          "model_module": "@jupyter-widgets/base",
          "model_name": "LayoutModel",
          "model_module_version": "1.2.0",
          "state": {
            "_model_module": "@jupyter-widgets/base",
            "_model_module_version": "1.2.0",
            "_model_name": "LayoutModel",
            "_view_count": null,
            "_view_module": "@jupyter-widgets/base",
            "_view_module_version": "1.2.0",
            "_view_name": "LayoutView",
            "align_content": null,
            "align_items": null,
            "align_self": null,
            "border": null,
            "bottom": null,
            "display": null,
            "flex": null,
            "flex_flow": null,
            "grid_area": null,
            "grid_auto_columns": null,
            "grid_auto_flow": null,
            "grid_auto_rows": null,
            "grid_column": null,
            "grid_gap": null,
            "grid_row": null,
            "grid_template_areas": null,
            "grid_template_columns": null,
            "grid_template_rows": null,
            "height": null,
            "justify_content": null,
            "justify_items": null,
            "left": null,
            "margin": null,
            "max_height": null,
            "max_width": null,
            "min_height": null,
            "min_width": null,
            "object_fit": null,
            "object_position": null,
            "order": null,
            "overflow": null,
            "overflow_x": null,
            "overflow_y": null,
            "padding": null,
            "right": null,
            "top": null,
            "visibility": null,
            "width": null
          }
        },
        "88bf22b622654dc2b3d2fdf266e11cab": {
          "model_module": "@jupyter-widgets/controls",
          "model_name": "ProgressStyleModel",
          "model_module_version": "1.5.0",
          "state": {
            "_model_module": "@jupyter-widgets/controls",
            "_model_module_version": "1.5.0",
            "_model_name": "ProgressStyleModel",
            "_view_count": null,
            "_view_module": "@jupyter-widgets/base",
            "_view_module_version": "1.2.0",
            "_view_name": "StyleView",
            "bar_color": null,
            "description_width": ""
          }
        },
        "a94d855783a24ec2b7343a26a592083e": {
          "model_module": "@jupyter-widgets/base",
          "model_name": "LayoutModel",
          "model_module_version": "1.2.0",
          "state": {
            "_model_module": "@jupyter-widgets/base",
            "_model_module_version": "1.2.0",
            "_model_name": "LayoutModel",
            "_view_count": null,
            "_view_module": "@jupyter-widgets/base",
            "_view_module_version": "1.2.0",
            "_view_name": "LayoutView",
            "align_content": null,
            "align_items": null,
            "align_self": null,
            "border": null,
            "bottom": null,
            "display": null,
            "flex": null,
            "flex_flow": null,
            "grid_area": null,
            "grid_auto_columns": null,
            "grid_auto_flow": null,
            "grid_auto_rows": null,
            "grid_column": null,
            "grid_gap": null,
            "grid_row": null,
            "grid_template_areas": null,
            "grid_template_columns": null,
            "grid_template_rows": null,
            "height": null,
            "justify_content": null,
            "justify_items": null,
            "left": null,
            "margin": null,
            "max_height": null,
            "max_width": null,
            "min_height": null,
            "min_width": null,
            "object_fit": null,
            "object_position": null,
            "order": null,
            "overflow": null,
            "overflow_x": null,
            "overflow_y": null,
            "padding": null,
            "right": null,
            "top": null,
            "visibility": null,
            "width": null
          }
        },
        "bbe277da91cd44edae5ea5cc62fa7763": {
          "model_module": "@jupyter-widgets/controls",
          "model_name": "DescriptionStyleModel",
          "model_module_version": "1.5.0",
          "state": {
            "_model_module": "@jupyter-widgets/controls",
            "_model_module_version": "1.5.0",
            "_model_name": "DescriptionStyleModel",
            "_view_count": null,
            "_view_module": "@jupyter-widgets/base",
            "_view_module_version": "1.2.0",
            "_view_name": "StyleView",
            "description_width": ""
          }
        },
        "eaebe449133c477d83e3187a65d678a9": {
          "model_module": "@jupyter-widgets/controls",
          "model_name": "HBoxModel",
          "model_module_version": "1.5.0",
          "state": {
            "_dom_classes": [],
            "_model_module": "@jupyter-widgets/controls",
            "_model_module_version": "1.5.0",
            "_model_name": "HBoxModel",
            "_view_count": null,
            "_view_module": "@jupyter-widgets/controls",
            "_view_module_version": "1.5.0",
            "_view_name": "HBoxView",
            "box_style": "",
            "children": [
              "IPY_MODEL_4ce83c60ad884d3e95a65b53319c4509",
              "IPY_MODEL_f7017badc3b34b2b82a5b5a7f82a6bc9",
              "IPY_MODEL_639abea46bec4c9da00e241fc7bf540a"
            ],
            "layout": "IPY_MODEL_39a2eb1940ba4b2fb17de0ba6593237e"
          }
        },
        "4ce83c60ad884d3e95a65b53319c4509": {
          "model_module": "@jupyter-widgets/controls",
          "model_name": "HTMLModel",
          "model_module_version": "1.5.0",
          "state": {
            "_dom_classes": [],
            "_model_module": "@jupyter-widgets/controls",
            "_model_module_version": "1.5.0",
            "_model_name": "HTMLModel",
            "_view_count": null,
            "_view_module": "@jupyter-widgets/controls",
            "_view_module_version": "1.5.0",
            "_view_name": "HTMLView",
            "description": "",
            "description_tooltip": null,
            "layout": "IPY_MODEL_fcbed7e909d54d96aed3dee14689550b",
            "placeholder": "​",
            "style": "IPY_MODEL_a6d2b61e5ba4447fbb3871d9c3cdcfa7",
            "value": "Epoch 1/10, Training:  57%"
          }
        },
        "f7017badc3b34b2b82a5b5a7f82a6bc9": {
          "model_module": "@jupyter-widgets/controls",
          "model_name": "FloatProgressModel",
          "model_module_version": "1.5.0",
          "state": {
            "_dom_classes": [],
            "_model_module": "@jupyter-widgets/controls",
            "_model_module_version": "1.5.0",
            "_model_name": "FloatProgressModel",
            "_view_count": null,
            "_view_module": "@jupyter-widgets/controls",
            "_view_module_version": "1.5.0",
            "_view_name": "ProgressView",
            "bar_style": "",
            "description": "",
            "description_tooltip": null,
            "layout": "IPY_MODEL_519607d0240d4313a88457d9e38fa85b",
            "max": 58,
            "min": 0,
            "orientation": "horizontal",
            "style": "IPY_MODEL_6468675edee5490d8a65e617460c67db",
            "value": 33
          }
        },
        "639abea46bec4c9da00e241fc7bf540a": {
          "model_module": "@jupyter-widgets/controls",
          "model_name": "HTMLModel",
          "model_module_version": "1.5.0",
          "state": {
            "_dom_classes": [],
            "_model_module": "@jupyter-widgets/controls",
            "_model_module_version": "1.5.0",
            "_model_name": "HTMLModel",
            "_view_count": null,
            "_view_module": "@jupyter-widgets/controls",
            "_view_module_version": "1.5.0",
            "_view_name": "HTMLView",
            "description": "",
            "description_tooltip": null,
            "layout": "IPY_MODEL_986c6fd352114534843918189533a40d",
            "placeholder": "​",
            "style": "IPY_MODEL_ceeb65f44ec34e10baa358747b4635c7",
            "value": " 33/58 [1:41:55&lt;1:17:53, 186.94s/it, accuracy=0.7358, loss=0.2897]"
          }
        },
        "39a2eb1940ba4b2fb17de0ba6593237e": {
          "model_module": "@jupyter-widgets/base",
          "model_name": "LayoutModel",
          "model_module_version": "1.2.0",
          "state": {
            "_model_module": "@jupyter-widgets/base",
            "_model_module_version": "1.2.0",
            "_model_name": "LayoutModel",
            "_view_count": null,
            "_view_module": "@jupyter-widgets/base",
            "_view_module_version": "1.2.0",
            "_view_name": "LayoutView",
            "align_content": null,
            "align_items": null,
            "align_self": null,
            "border": null,
            "bottom": null,
            "display": null,
            "flex": null,
            "flex_flow": null,
            "grid_area": null,
            "grid_auto_columns": null,
            "grid_auto_flow": null,
            "grid_auto_rows": null,
            "grid_column": null,
            "grid_gap": null,
            "grid_row": null,
            "grid_template_areas": null,
            "grid_template_columns": null,
            "grid_template_rows": null,
            "height": null,
            "justify_content": null,
            "justify_items": null,
            "left": null,
            "margin": null,
            "max_height": null,
            "max_width": null,
            "min_height": null,
            "min_width": null,
            "object_fit": null,
            "object_position": null,
            "order": null,
            "overflow": null,
            "overflow_x": null,
            "overflow_y": null,
            "padding": null,
            "right": null,
            "top": null,
            "visibility": null,
            "width": null
          }
        },
        "fcbed7e909d54d96aed3dee14689550b": {
          "model_module": "@jupyter-widgets/base",
          "model_name": "LayoutModel",
          "model_module_version": "1.2.0",
          "state": {
            "_model_module": "@jupyter-widgets/base",
            "_model_module_version": "1.2.0",
            "_model_name": "LayoutModel",
            "_view_count": null,
            "_view_module": "@jupyter-widgets/base",
            "_view_module_version": "1.2.0",
            "_view_name": "LayoutView",
            "align_content": null,
            "align_items": null,
            "align_self": null,
            "border": null,
            "bottom": null,
            "display": null,
            "flex": null,
            "flex_flow": null,
            "grid_area": null,
            "grid_auto_columns": null,
            "grid_auto_flow": null,
            "grid_auto_rows": null,
            "grid_column": null,
            "grid_gap": null,
            "grid_row": null,
            "grid_template_areas": null,
            "grid_template_columns": null,
            "grid_template_rows": null,
            "height": null,
            "justify_content": null,
            "justify_items": null,
            "left": null,
            "margin": null,
            "max_height": null,
            "max_width": null,
            "min_height": null,
            "min_width": null,
            "object_fit": null,
            "object_position": null,
            "order": null,
            "overflow": null,
            "overflow_x": null,
            "overflow_y": null,
            "padding": null,
            "right": null,
            "top": null,
            "visibility": null,
            "width": null
          }
        },
        "a6d2b61e5ba4447fbb3871d9c3cdcfa7": {
          "model_module": "@jupyter-widgets/controls",
          "model_name": "DescriptionStyleModel",
          "model_module_version": "1.5.0",
          "state": {
            "_model_module": "@jupyter-widgets/controls",
            "_model_module_version": "1.5.0",
            "_model_name": "DescriptionStyleModel",
            "_view_count": null,
            "_view_module": "@jupyter-widgets/base",
            "_view_module_version": "1.2.0",
            "_view_name": "StyleView",
            "description_width": ""
          }
        },
        "519607d0240d4313a88457d9e38fa85b": {
          "model_module": "@jupyter-widgets/base",
          "model_name": "LayoutModel",
          "model_module_version": "1.2.0",
          "state": {
            "_model_module": "@jupyter-widgets/base",
            "_model_module_version": "1.2.0",
            "_model_name": "LayoutModel",
            "_view_count": null,
            "_view_module": "@jupyter-widgets/base",
            "_view_module_version": "1.2.0",
            "_view_name": "LayoutView",
            "align_content": null,
            "align_items": null,
            "align_self": null,
            "border": null,
            "bottom": null,
            "display": null,
            "flex": null,
            "flex_flow": null,
            "grid_area": null,
            "grid_auto_columns": null,
            "grid_auto_flow": null,
            "grid_auto_rows": null,
            "grid_column": null,
            "grid_gap": null,
            "grid_row": null,
            "grid_template_areas": null,
            "grid_template_columns": null,
            "grid_template_rows": null,
            "height": null,
            "justify_content": null,
            "justify_items": null,
            "left": null,
            "margin": null,
            "max_height": null,
            "max_width": null,
            "min_height": null,
            "min_width": null,
            "object_fit": null,
            "object_position": null,
            "order": null,
            "overflow": null,
            "overflow_x": null,
            "overflow_y": null,
            "padding": null,
            "right": null,
            "top": null,
            "visibility": null,
            "width": null
          }
        },
        "6468675edee5490d8a65e617460c67db": {
          "model_module": "@jupyter-widgets/controls",
          "model_name": "ProgressStyleModel",
          "model_module_version": "1.5.0",
          "state": {
            "_model_module": "@jupyter-widgets/controls",
            "_model_module_version": "1.5.0",
            "_model_name": "ProgressStyleModel",
            "_view_count": null,
            "_view_module": "@jupyter-widgets/base",
            "_view_module_version": "1.2.0",
            "_view_name": "StyleView",
            "bar_color": null,
            "description_width": ""
          }
        },
        "986c6fd352114534843918189533a40d": {
          "model_module": "@jupyter-widgets/base",
          "model_name": "LayoutModel",
          "model_module_version": "1.2.0",
          "state": {
            "_model_module": "@jupyter-widgets/base",
            "_model_module_version": "1.2.0",
            "_model_name": "LayoutModel",
            "_view_count": null,
            "_view_module": "@jupyter-widgets/base",
            "_view_module_version": "1.2.0",
            "_view_name": "LayoutView",
            "align_content": null,
            "align_items": null,
            "align_self": null,
            "border": null,
            "bottom": null,
            "display": null,
            "flex": null,
            "flex_flow": null,
            "grid_area": null,
            "grid_auto_columns": null,
            "grid_auto_flow": null,
            "grid_auto_rows": null,
            "grid_column": null,
            "grid_gap": null,
            "grid_row": null,
            "grid_template_areas": null,
            "grid_template_columns": null,
            "grid_template_rows": null,
            "height": null,
            "justify_content": null,
            "justify_items": null,
            "left": null,
            "margin": null,
            "max_height": null,
            "max_width": null,
            "min_height": null,
            "min_width": null,
            "object_fit": null,
            "object_position": null,
            "order": null,
            "overflow": null,
            "overflow_x": null,
            "overflow_y": null,
            "padding": null,
            "right": null,
            "top": null,
            "visibility": null,
            "width": null
          }
        },
        "ceeb65f44ec34e10baa358747b4635c7": {
          "model_module": "@jupyter-widgets/controls",
          "model_name": "DescriptionStyleModel",
          "model_module_version": "1.5.0",
          "state": {
            "_model_module": "@jupyter-widgets/controls",
            "_model_module_version": "1.5.0",
            "_model_name": "DescriptionStyleModel",
            "_view_count": null,
            "_view_module": "@jupyter-widgets/base",
            "_view_module_version": "1.2.0",
            "_view_name": "StyleView",
            "description_width": ""
          }
        }
      }
    }
  },
  "nbformat": 4,
  "nbformat_minor": 0
}